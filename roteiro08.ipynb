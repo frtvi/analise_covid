{
  "nbformat": 4,
  "nbformat_minor": 0,
  "metadata": {
    "colab": {
      "provenance": []
    },
    "kernelspec": {
      "name": "python3",
      "display_name": "Python 3"
    },
    "language_info": {
      "name": "python"
    }
  },
  "cells": [
    {
      "cell_type": "code",
      "execution_count": 24,
      "metadata": {
        "id": "9uS-Ksf2CjO3"
      },
      "outputs": [],
      "source": [
        "import sqlite3\n",
        "import pandas as pd"
      ]
    },
    {
      "cell_type": "code",
      "source": [
        "conn = sqlite3.connect('Roteiro08_Banco_Dados.db')"
      ],
      "metadata": {
        "id": "pgDnHiwaCvX4"
      },
      "execution_count": 25,
      "outputs": []
    },
    {
      "cell_type": "code",
      "source": [
        "# Criar a tabela \"covidcasos\" (se ela não existir)\n",
        "conn.execute('''\n",
        "    CREATE TABLE IF NOT EXISTS covidcasos (\n",
        "        id INTEGER PRIMARY KEY,\n",
        "        state TEXT,\n",
        "        cases INT,\n",
        "        deaths INT,\n",
        "        suspects INT,\n",
        "        refuses INT\n",
        "\n",
        "    )\n",
        "''')"
      ],
      "metadata": {
        "colab": {
          "base_uri": "https://localhost:8080/"
        },
        "id": "689vhI44CyLX",
        "outputId": "983227be-3843-4d25-c803-21d3a21c6d92"
      },
      "execution_count": 26,
      "outputs": [
        {
          "output_type": "execute_result",
          "data": {
            "text/plain": [
              "<sqlite3.Cursor at 0x7eab0e8219c0>"
            ]
          },
          "metadata": {},
          "execution_count": 26
        }
      ]
    },
    {
      "cell_type": "code",
      "source": [
        "# Lista de exemplos de dados de covidcasos para todos os estados do Brasil com diversas estações\n",
        "registros = [\n",
        "    (\"São Paulo\", 4646106, 157854, 5334, 596),\n",
        "    (\"Minas Gerais\", 2705734, 57306, 925, 104),\n",
        "    (\"Paraná\", 1952061, 41191, 400, 119),\n",
        "    (\"Rio Grande do Sul\", 1821565, 36863, 416, 330),\n",
        "    (\"Rio de Janeiro\", 1753395, 69878, 1254, 148),\n",
        "    (\"Santa Catarina\", 1439607, 20550, 346, 47),\n",
        "    (\"Bahia\",1359487, 27912, 573, 36),\n",
        "    (\"Ceará\",1119607, 25239, 493, 89),\n",
        "    (\"Goiás\",1034279, 25002, 353, 55),\n",
        "    (\"Espírito Santo\", 832984, 13490, 71, 21),\n",
        "    (\"Pernambuco\", 697295, 20635, 89, 23),\n",
        "    (\"Pará\", 647628, 17340, 43, 23),\n",
        "    (\"Mato Grosso\", 616695, 13999, 45, 8),\n",
        "    (\"Distrito Federal\", 595257, 11164, 327, 107),\n",
        "    (\"Amazonas\", 528268, 13936, 18, 26),\n",
        "    (\"Paraíba\", 497653, 9702, 85, 11)\n",
        "]"
      ],
      "metadata": {
        "id": "X0x1ot3SDusI"
      },
      "execution_count": 27,
      "outputs": []
    },
    {
      "cell_type": "code",
      "source": [
        "# Inserir os registros na tabela \"covidcasos\"\n",
        "for registro in registros:\n",
        "    conn.execute(\"INSERT INTO covidcasos (state, cases, deaths, suspects, refuses) VALUES (?, ?, ?, ?, ?)\", registro)"
      ],
      "metadata": {
        "id": "f3OgswPMD06-"
      },
      "execution_count": 28,
      "outputs": []
    },
    {
      "cell_type": "code",
      "source": [
        "# Confirmar as alterações no banco de dados\n",
        "conn.commit()"
      ],
      "metadata": {
        "id": "foJkQLsmD8SG"
      },
      "execution_count": 29,
      "outputs": []
    },
    {
      "cell_type": "code",
      "source": [
        "# Consultar os registros inseridos para verificar se foram adicionados corretamente\n",
        "query = \"SELECT * FROM covidcasos\"\n",
        "df_covidcasos = pd.read_sql_query(query, conn)\n",
        "print(df_covidcasos)"
      ],
      "metadata": {
        "colab": {
          "base_uri": "https://localhost:8080/"
        },
        "id": "NYcq5cYEEANe",
        "outputId": "8ce4e274-89ec-4a93-c675-6d159f8fe645"
      },
      "execution_count": 30,
      "outputs": [
        {
          "output_type": "stream",
          "name": "stdout",
          "text": [
            "    id              state    cases  deaths  suspects  refuses datetime\n",
            "0    1          São Paulo  4646106  157854      5334      596     None\n",
            "1    2       Minas Gerais  2705734   57306       925      104     None\n",
            "2    3             Paraná  1952061   41191       400      119     None\n",
            "3    4  Rio Grande do Sul  1821565   36863       416      330     None\n",
            "4    5     Rio de Janeiro  1753395   69878      1254      148     None\n",
            "5    6     Santa Catarina  1439607   20550       346       47     None\n",
            "6    7              Bahia  1359487   27912       573       36     None\n",
            "7    8              Ceará  1119607   25239       493       89     None\n",
            "8    9              Goiás  1034279   25002       353       55     None\n",
            "9   10     Espírito Santo   832984   13490        71       21     None\n",
            "10  11         Pernambuco   697295   20635        89       23     None\n",
            "11  12               Pará   647628   17340        43       23     None\n",
            "12  13        Mato Grosso   616695   13999        45        8     None\n",
            "13  14   Distrito Federal   595257   11164       327      107     None\n",
            "14  15           Amazonas   528268   13936        18       26     None\n",
            "15  16            Paraíba   497653    9702        85       11     None\n",
            "16  17          São Paulo  4646106  157854      5334      596     None\n",
            "17  18       Minas Gerais  2705734   57306       925      104     None\n",
            "18  19             Paraná  1952061   41191       400      119     None\n",
            "19  20  Rio Grande do Sul  1821565   36863       416      330     None\n",
            "20  21     Rio de Janeiro  1753395   69878      1254      148     None\n",
            "21  22     Santa Catarina  1439607   20550       346       47     None\n",
            "22  23              Bahia  1359487   27912       573       36     None\n",
            "23  24              Ceará  1119607   25239       493       89     None\n",
            "24  25              Goiás  1034279   25002       353       55     None\n",
            "25  26     Espírito Santo   832984   13490        71       21     None\n",
            "26  27         Pernambuco   697295   20635        89       23     None\n",
            "27  28               Pará   647628   17340        43       23     None\n",
            "28  29        Mato Grosso   616695   13999        45        8     None\n",
            "29  30   Distrito Federal   595257   11164       327      107     None\n",
            "30  31           Amazonas   528268   13936        18       26     None\n",
            "31  32            Paraíba   497653    9702        85       11     None\n",
            "32  33          São Paulo  4646106  157854      5334      596     None\n",
            "33  34       Minas Gerais  2705734   57306       925      104     None\n",
            "34  35             Paraná  1952061   41191       400      119     None\n",
            "35  36  Rio Grande do Sul  1821565   36863       416      330     None\n",
            "36  37     Rio de Janeiro  1753395   69878      1254      148     None\n",
            "37  38     Santa Catarina  1439607   20550       346       47     None\n",
            "38  39              Bahia  1359487   27912       573       36     None\n",
            "39  40              Ceará  1119607   25239       493       89     None\n",
            "40  41              Goiás  1034279   25002       353       55     None\n",
            "41  42     Espírito Santo   832984   13490        71       21     None\n",
            "42  43         Pernambuco   697295   20635        89       23     None\n",
            "43  44               Pará   647628   17340        43       23     None\n",
            "44  45        Mato Grosso   616695   13999        45        8     None\n",
            "45  46   Distrito Federal   595257   11164       327      107     None\n",
            "46  47           Amazonas   528268   13936        18       26     None\n",
            "47  48            Paraíba   497653    9702        85       11     None\n"
          ]
        }
      ]
    },
    {
      "cell_type": "code",
      "source": [
        "# Fechar a conexão com o banco de dados\n",
        "conn.close()"
      ],
      "metadata": {
        "id": "heKHz7drEN0O"
      },
      "execution_count": 31,
      "outputs": []
    },
    {
      "cell_type": "code",
      "source": [
        "import sqlite3\n",
        "import pandas as pd"
      ],
      "metadata": {
        "id": "vMe9GiLtPr_3"
      },
      "execution_count": 32,
      "outputs": []
    },
    {
      "cell_type": "code",
      "source": [
        "conn = sqlite3.connect('Roteiro08_Banco_Dados.db')"
      ],
      "metadata": {
        "id": "-pNYRpM6Puiz"
      },
      "execution_count": 33,
      "outputs": []
    },
    {
      "cell_type": "code",
      "source": [
        "query = \"SELECT * FROM covidcasos\"\n",
        "df_covidcasos = pd.read_sql_query(query, conn)"
      ],
      "metadata": {
        "id": "fFofM2wcPxeK"
      },
      "execution_count": 34,
      "outputs": []
    },
    {
      "cell_type": "code",
      "source": [
        "conn.close()"
      ],
      "metadata": {
        "id": "86HYaO28P2Hy"
      },
      "execution_count": 35,
      "outputs": []
    },
    {
      "cell_type": "code",
      "source": [
        "print(\"Primeiros registros:\")\n",
        "print(df_covidcasos.head())"
      ],
      "metadata": {
        "colab": {
          "base_uri": "https://localhost:8080/"
        },
        "id": "KJREWgVeP4aC",
        "outputId": "39a372d6-e145-42c2-ad4e-d870ee1ffea3"
      },
      "execution_count": 36,
      "outputs": [
        {
          "output_type": "stream",
          "name": "stdout",
          "text": [
            "Primeiros registros:\n",
            "   id              state    cases  deaths  suspects  refuses datetime\n",
            "0   1          São Paulo  4646106  157854      5334      596     None\n",
            "1   2       Minas Gerais  2705734   57306       925      104     None\n",
            "2   3             Paraná  1952061   41191       400      119     None\n",
            "3   4  Rio Grande do Sul  1821565   36863       416      330     None\n",
            "4   5     Rio de Janeiro  1753395   69878      1254      148     None\n"
          ]
        }
      ]
    },
    {
      "cell_type": "code",
      "source": [
        "# 1. Calcular a média de mortes por estado\n",
        "media_mortes_estado = df_covidcasos.groupby('state')['deaths'].mean()\n",
        "print(\"\\nMédia de mortes por estado:\")\n",
        "print(media_mortes_estado)"
      ],
      "metadata": {
        "colab": {
          "base_uri": "https://localhost:8080/"
        },
        "id": "czQBoYoEP-Ib",
        "outputId": "7178268a-1789-4a0e-de9b-9a00cc45bf95"
      },
      "execution_count": 37,
      "outputs": [
        {
          "output_type": "stream",
          "name": "stdout",
          "text": [
            "\n",
            "Média de mortes por estado:\n",
            "state\n",
            "Amazonas              13936.0\n",
            "Bahia                 27912.0\n",
            "Ceará                 25239.0\n",
            "Distrito Federal      11164.0\n",
            "Espírito Santo        13490.0\n",
            "Goiás                 25002.0\n",
            "Mato Grosso           13999.0\n",
            "Minas Gerais          57306.0\n",
            "Paraná                41191.0\n",
            "Paraíba                9702.0\n",
            "Pará                  17340.0\n",
            "Pernambuco            20635.0\n",
            "Rio Grande do Sul     36863.0\n",
            "Rio de Janeiro        69878.0\n",
            "Santa Catarina        20550.0\n",
            "São Paulo            157854.0\n",
            "Name: deaths, dtype: float64\n"
          ]
        }
      ]
    }
  ]
}