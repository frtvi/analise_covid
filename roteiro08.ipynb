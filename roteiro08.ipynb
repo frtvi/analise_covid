{
  "nbformat": 4,
  "nbformat_minor": 0,
  "metadata": {
    "colab": {
      "provenance": []
    },
    "kernelspec": {
      "name": "python3",
      "display_name": "Python 3"
    },
    "language_info": {
      "name": "python"
    }
  },
  "cells": [
    {
      "cell_type": "code",
      "execution_count": null,
      "metadata": {
        "id": "9uS-Ksf2CjO3"
      },
      "outputs": [],
      "source": [
        "import sqlite3\n",
        "import pandas as pd"
      ]
    },
    {
      "cell_type": "code",
      "source": [
        "conn = sqlite3.connect('Roteiro08_Banco_Dados.db')"
      ],
      "metadata": {
        "id": "pgDnHiwaCvX4"
      },
      "execution_count": null,
      "outputs": []
    },
    {
      "cell_type": "code",
      "source": [
        "# Criar a tabela \"covidcasos\" (se ela não existir)\n",
        "conn.execute('''\n",
        "    CREATE TABLE IF NOT EXISTS covidcasos (\n",
        "        id INTEGER PRIMARY KEY,\n",
        "        state TEXT,\n",
        "        cases INT,\n",
        "        deaths INT,\n",
        "        suspects INT,\n",
        "        refuses INT,\n",
        "        datetime TEXT\n",
        "\n",
        "    )\n",
        "''')"
      ],
      "metadata": {
        "colab": {
          "base_uri": "https://localhost:8080/"
        },
        "id": "689vhI44CyLX",
        "outputId": "1db72158-7630-4482-f70f-55ed75ff34d5"
      },
      "execution_count": null,
      "outputs": [
        {
          "output_type": "execute_result",
          "data": {
            "text/plain": [
              "<sqlite3.Cursor at 0x7f4b188d3840>"
            ]
          },
          "metadata": {},
          "execution_count": 50
        }
      ]
    },
    {
      "cell_type": "code",
      "source": [
        "# Lista de exemplos de dados de covidcasos para todos os estados do Brasil com diversas estações\n",
        "registros = [\n",
        "    (\"São Paulo\", 4646106, 157854, 5334, 596, \"2022-01-30T21:33:38.998Z\"),\n",
        "    (\"Minas Gerais\", 2705734, 57306, 925, 104, \"2022-01-30T21:33:38.998Z\"),\n",
        "    (\"Paraná\", 1952061, 41191, 400, 119, \"2022-01-30T21:33:38.998Z\"),\n",
        "    (\"Rio Grande do Sul\", 1821565, 36863, 416, 330, \"2022-01-30T21:33:38.998Z\"),\n",
        "    (\"Rio de Janeiro\", 1753395, 69878, 1254, 148, \"2022-01-30T21:33:38.998Z\"),\n",
        "    (\"Santa Catarina\", 1439607, 20550, 346, 47, \"2022-01-30T21:33:38.998Z\"),\n",
        "    (\"Bahia\",1359487, 27912, 573, 36, \"2022-01-30T21:33:38.998Z\"),\n",
        "    (\"Ceará\",1119607, 25239, 493, 89, \"2022-01-30T21:33:38.998Z\"),\n",
        "    (\"Goiás\",1034279, 25002, 353, 55, \"2022-01-30T21:33:38.998Z\"),\n",
        "    (\"Espírito Santo\", 832984, 13490, 71, 21, \"2022-01-30T21:33:38.998Z\"),\n",
        "    (\"Pernambuco\", 697295, 20635, 89, 23, \"2022-01-30T21:33:38.998Z\"),\n",
        "    (\"Pará\", 647628, 17340, 43, 23, \"2022-01-30T21:33:38.998Z\"),\n",
        "    (\"Mato Grosso\", 616695, 13999, 45, 8, \"2022-01-30T21:33:38.998Z\"),\n",
        "    (\"Distrito Federal\", 595257, 11164, 327, 107, \"2022-01-30T21:33:38.998Z\"),\n",
        "    (\"Amazonas\", 528268, 13936, 18, 26, \"2022-01-30T21:33:38.998Z\"),\n",
        "    (\"Paraíba\", 497653, 9702, 85, 11, \"2022-01-30T21:33:38.998Z\")\n",
        "]"
      ],
      "metadata": {
        "id": "X0x1ot3SDusI"
      },
      "execution_count": null,
      "outputs": []
    },
    {
      "cell_type": "code",
      "source": [
        "# Inserir os registros na tabela \"covidcasos\"\n",
        "for registro in registros:\n",
        "    conn.execute(\"INSERT INTO covidcasos (state, cases, deaths, suspects, refuses, datetime) VALUES (?, ?, ?, ?, ?, ?)\", registro)"
      ],
      "metadata": {
        "id": "f3OgswPMD06-"
      },
      "execution_count": null,
      "outputs": []
    },
    {
      "cell_type": "code",
      "source": [
        "# Confirmar as alterações no banco de dados\n",
        "conn.commit()"
      ],
      "metadata": {
        "id": "foJkQLsmD8SG"
      },
      "execution_count": null,
      "outputs": []
    },
    {
      "cell_type": "code",
      "source": [
        "# Consultar os registros inseridos para verificar se foram adicionados corretamente\n",
        "query = \"SELECT * FROM covidcasos\"\n",
        "df_covidcasos = pd.read_sql_query(query, conn)\n",
        "print(df_covidcasos)"
      ],
      "metadata": {
        "colab": {
          "base_uri": "https://localhost:8080/"
        },
        "id": "NYcq5cYEEANe",
        "outputId": "5f6fa830-cbb1-49bf-e360-8ac37b3832c1"
      },
      "execution_count": null,
      "outputs": [
        {
          "output_type": "stream",
          "name": "stdout",
          "text": [
            "    id   uid    uf              state    cases  deaths  suspects  refuses  \\\n",
            "0    1  35.0    SP          São Paulo  4646106  157854      5334      596   \n",
            "1    2   NaN    SP          São Paulo  4646106  157854      5334      596   \n",
            "2    3   NaN    SP          São Paulo  4646106  157854      5334      596   \n",
            "3    4   NaN    SP          São Paulo  4646106  157854      5334      596   \n",
            "4    5   NaN    SP          São Paulo  4646106  157854      5334      596   \n",
            "5    6   NaN    SP          São Paulo  4646106  157854      5334      596   \n",
            "6    7   NaN    SP          São Paulo  4646106  157854      5334      596   \n",
            "7    8   NaN    SP          São Paulo  4646106  157854      5334      596   \n",
            "8    9   NaN    SP          São Paulo  4646106  157854      5334      596   \n",
            "9   10   NaN    SP          São Paulo  4646106  157854      5334      596   \n",
            "10  11   NaN    SP          São Paulo  4646106  157854      5334      596   \n",
            "11  12   NaN  None          São Paulo  4646106  157854      5334      596   \n",
            "12  13   NaN  None       Minas Gerais  2705734   57306       925      104   \n",
            "13  14   NaN  None             Paraná  1952061   41191       400      119   \n",
            "14  15   NaN  None  Rio Grande do Sul  1821565   36863       416      330   \n",
            "15  16   NaN  None     Rio de Janeiro  1753395   69878      1254      148   \n",
            "16  17   NaN  None     Santa Catarina  1439607   20550       346       47   \n",
            "17  18   NaN  None              Bahia  1359487   27912       573       36   \n",
            "18  19   NaN  None              Ceará  1119607   25239       493       89   \n",
            "19  20   NaN  None              Goiás  1034279   25002       353       55   \n",
            "20  21   NaN  None     Espírito Santo   832984   13490        71       21   \n",
            "21  22   NaN  None         Pernambuco   697295   20635        89       23   \n",
            "22  23   NaN  None               Pará   647628   17340        43       23   \n",
            "23  24   NaN  None        Mato Grosso   616695   13999        45        8   \n",
            "24  25   NaN  None   Distrito Federal   595257   11164       327      107   \n",
            "25  26   NaN  None           Amazonas   528268   13936        18       26   \n",
            "26  27   NaN  None            Paraíba   497653    9702        85       11   \n",
            "27  28   NaN  None          São Paulo  4646106  157854      5334      596   \n",
            "28  29   NaN  None       Minas Gerais  2705734   57306       925      104   \n",
            "29  30   NaN  None             Paraná  1952061   41191       400      119   \n",
            "30  31   NaN  None  Rio Grande do Sul  1821565   36863       416      330   \n",
            "31  32   NaN  None     Rio de Janeiro  1753395   69878      1254      148   \n",
            "32  33   NaN  None     Santa Catarina  1439607   20550       346       47   \n",
            "33  34   NaN  None              Bahia  1359487   27912       573       36   \n",
            "34  35   NaN  None              Ceará  1119607   25239       493       89   \n",
            "35  36   NaN  None              Goiás  1034279   25002       353       55   \n",
            "36  37   NaN  None     Espírito Santo   832984   13490        71       21   \n",
            "37  38   NaN  None         Pernambuco   697295   20635        89       23   \n",
            "38  39   NaN  None               Pará   647628   17340        43       23   \n",
            "39  40   NaN  None        Mato Grosso   616695   13999        45        8   \n",
            "40  41   NaN  None   Distrito Federal   595257   11164       327      107   \n",
            "41  42   NaN  None           Amazonas   528268   13936        18       26   \n",
            "42  43   NaN  None            Paraíba   497653    9702        85       11   \n",
            "\n",
            "                    datetime  \n",
            "0   2022-01-30T21:33:38.998Z  \n",
            "1   2022-01-30T21:33:38.998Z  \n",
            "2   2022-01-30T21:33:38.998Z  \n",
            "3   2022-01-30T21:33:38.998Z  \n",
            "4   2022-01-30T21:33:38.998Z  \n",
            "5   2022-01-30T21:33:38.998Z  \n",
            "6   2022-01-30T21:33:38.998Z  \n",
            "7   2022-01-30T21:33:38.998Z  \n",
            "8   2022-01-30T21:33:38.998Z  \n",
            "9   2022-01-30T21:33:38.998Z  \n",
            "10  2022-01-30T21:33:38.998Z  \n",
            "11  2022-01-30T21:33:38.998Z  \n",
            "12  2022-01-30T21:33:38.998Z  \n",
            "13  2022-01-30T21:33:38.998Z  \n",
            "14  2022-01-30T21:33:38.998Z  \n",
            "15  2022-01-30T21:33:38.998Z  \n",
            "16  2022-01-30T21:33:38.998Z  \n",
            "17  2022-01-30T21:33:38.998Z  \n",
            "18  2022-01-30T21:33:38.998Z  \n",
            "19  2022-01-30T21:33:38.998Z  \n",
            "20  2022-01-30T21:33:38.998Z  \n",
            "21  2022-01-30T21:33:38.998Z  \n",
            "22  2022-01-30T21:33:38.998Z  \n",
            "23  2022-01-30T21:33:38.998Z  \n",
            "24  2022-01-30T21:33:38.998Z  \n",
            "25  2022-01-30T21:33:38.998Z  \n",
            "26  2022-01-30T21:33:38.998Z  \n",
            "27  2022-01-30T21:33:38.998Z  \n",
            "28  2022-01-30T21:33:38.998Z  \n",
            "29  2022-01-30T21:33:38.998Z  \n",
            "30  2022-01-30T21:33:38.998Z  \n",
            "31  2022-01-30T21:33:38.998Z  \n",
            "32  2022-01-30T21:33:38.998Z  \n",
            "33  2022-01-30T21:33:38.998Z  \n",
            "34  2022-01-30T21:33:38.998Z  \n",
            "35  2022-01-30T21:33:38.998Z  \n",
            "36  2022-01-30T21:33:38.998Z  \n",
            "37  2022-01-30T21:33:38.998Z  \n",
            "38  2022-01-30T21:33:38.998Z  \n",
            "39  2022-01-30T21:33:38.998Z  \n",
            "40  2022-01-30T21:33:38.998Z  \n",
            "41  2022-01-30T21:33:38.998Z  \n",
            "42  2022-01-30T21:33:38.998Z  \n"
          ]
        }
      ]
    },
    {
      "cell_type": "code",
      "source": [
        "# Fechar a conexão com o banco de dados\n",
        "conn.close()"
      ],
      "metadata": {
        "id": "heKHz7drEN0O"
      },
      "execution_count": null,
      "outputs": []
    },
    {
      "cell_type": "code",
      "source": [
        "import sqlite3\n",
        "import pandas as pd"
      ],
      "metadata": {
        "id": "vMe9GiLtPr_3"
      },
      "execution_count": null,
      "outputs": []
    },
    {
      "cell_type": "code",
      "source": [
        "conn = sqlite3.connect('Roteiro08_Banco_Dados.db')"
      ],
      "metadata": {
        "id": "-pNYRpM6Puiz"
      },
      "execution_count": null,
      "outputs": []
    },
    {
      "cell_type": "code",
      "source": [
        "query = \"SELECT * FROM covidcasos\"\n",
        "df_covidcasos = pd.read_sql_query(query, conn)"
      ],
      "metadata": {
        "id": "fFofM2wcPxeK"
      },
      "execution_count": null,
      "outputs": []
    },
    {
      "cell_type": "code",
      "source": [
        "conn.close()"
      ],
      "metadata": {
        "id": "86HYaO28P2Hy"
      },
      "execution_count": null,
      "outputs": []
    },
    {
      "cell_type": "code",
      "source": [
        "print(\"Primeiros registros:\")\n",
        "print(df_covidcasos.head())"
      ],
      "metadata": {
        "colab": {
          "base_uri": "https://localhost:8080/"
        },
        "id": "KJREWgVeP4aC",
        "outputId": "42160f67-308e-4fa3-98d8-c49f542995a1"
      },
      "execution_count": null,
      "outputs": [
        {
          "output_type": "stream",
          "name": "stdout",
          "text": [
            "Primeiros registros:\n",
            "   id   uid  uf      state    cases  deaths  suspects  refuses  \\\n",
            "0   1  35.0  SP  São Paulo  4646106  157854      5334      596   \n",
            "1   2   NaN  SP  São Paulo  4646106  157854      5334      596   \n",
            "2   3   NaN  SP  São Paulo  4646106  157854      5334      596   \n",
            "3   4   NaN  SP  São Paulo  4646106  157854      5334      596   \n",
            "4   5   NaN  SP  São Paulo  4646106  157854      5334      596   \n",
            "\n",
            "                   datetime  \n",
            "0  2022-01-30T21:33:38.998Z  \n",
            "1  2022-01-30T21:33:38.998Z  \n",
            "2  2022-01-30T21:33:38.998Z  \n",
            "3  2022-01-30T21:33:38.998Z  \n",
            "4  2022-01-30T21:33:38.998Z  \n"
          ]
        }
      ]
    },
    {
      "cell_type": "code",
      "source": [
        "# 1. Calcular a média de mortes por estado\n",
        "media_mortes_estado = df_covidcasos.groupby('state')['deaths'].mean()\n",
        "print(\"\\nMédia de mortes por estado:\")\n",
        "print(media_mortes_estado)"
      ],
      "metadata": {
        "colab": {
          "base_uri": "https://localhost:8080/"
        },
        "id": "czQBoYoEP-Ib",
        "outputId": "082ef829-57ac-42de-8b00-8bcb1ebc553d"
      },
      "execution_count": null,
      "outputs": [
        {
          "output_type": "stream",
          "name": "stdout",
          "text": [
            "\n",
            "Média de mortes por estado:\n",
            "state\n",
            " São Paulo           157854.0\n",
            "Amazonas              13936.0\n",
            "Bahia                 27912.0\n",
            "Ceará                 25239.0\n",
            "Distrito Federal      11164.0\n",
            "Espírito Santo        13490.0\n",
            "Goiás                 25002.0\n",
            "Mato Grosso           13999.0\n",
            "Minas Gerais          57306.0\n",
            "Paraná                41191.0\n",
            "Paraíba                9702.0\n",
            "Pará                  17340.0\n",
            "Pernambuco            20635.0\n",
            "Rio Grande do Sul     36863.0\n",
            "Rio de Janeiro        69878.0\n",
            "Santa Catarina        20550.0\n",
            "São Paulo            157854.0\n",
            "Name: deaths, dtype: float64\n"
          ]
        }
      ]
    }
  ]
}